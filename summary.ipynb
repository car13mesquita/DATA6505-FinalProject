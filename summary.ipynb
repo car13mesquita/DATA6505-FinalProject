{
  "cells": [
    {
      "cell_type": "markdown",
      "metadata": {
        "id": "iSjsKciig-Xo"
      },
      "source": [
        "# Citi Bike: Business or Pleasure?"
      ]
    },
    {
      "cell_type": "markdown",
      "metadata": {
        "id": "nJQvwbAyZ2Qh"
      },
      "source": [
        "## What is Citi Bike?\n",
        "Citi Bike is a popular bike-sharing service in the Hoboken and Jersey City area that allows users to easily access bikes at various stations around the city. With Citi Bike, you can enjoy the convenience and flexibility of having a bike at your disposal whenever you need it. Whether you're using it for business purposes, running errands, or just enjoying the outdoors, Citi Bike has you covered. Plus, with affordable monthly and annual memberships available, Citi Bike is a cost-effective transportation option that's good for your wallet and the environment. Try Citi Bike today and experience the freedom and convenience of having a bike at your fingertips.\n",
        "\n",
        "## Motivation\n",
        "Citi Bike has become one of the most popular transportation services in the urban environment. Not only is it cheaper compared to taxi services such as Uber but also faster and offers a green, health-conscious, and convenient way to travel around the highly-populated city. Citi Bike offers an annual membership which has benefits such as longer free rides. We are going to analyze if people use it more for business or pleasure. This information can be valuable for the users as well as for Citi Bike itself, as understanding how the market proposition can help the company make more informed business decisions.\n",
        "\n",
        "Additionally, an analysis of Citi Bike's audience can provide insight into the usage patterns of Citi Bike users, including the most popular stations, and times of day for bike rentals. This information can be used to optimize the Citi Bike network and improve the overall user experience.\n"
      ]
    },
    {
      "cell_type": "markdown",
      "metadata": {
        "id": "3b7_GT_idiVg"
      },
      "source": [
        "## Data Sources\n",
        "\n",
        "The source of our dataset is from the official Citi Bike website https://ride.CitiBikenyc.com/system-data. The dataset provides us insights into the usage of Citi Bike in the Jersey City area for the period of 12 months from December 2021 to November 2022. It contains various features such as type of rides, station id, station name, station locations, start station, end station, latitude, longitude, and types of users. The dataset consists of 13 columns and roughly about 895 thousand rows."
      ]
    },
    {
      "cell_type": "markdown",
      "metadata": {
        "id": "LvdhAb6eef5O"
      },
      "source": [
        "## Analysis"
      ]
    },
    {
      "cell_type": "markdown",
      "metadata": {
        "id": "Qhv5tQ6E0cEr"
      },
      "source": [
        "### Where Do People Use Citi Bike?"
      ]
    },
    {
      "attachments": {},
      "cell_type": "markdown",
      "metadata": {
        "id": "ZBJlFO6ceht5"
      },
      "source": [
        "#### Station Popularity\n",
        "\n",
        "The popularity of the start and end stations was explored to find out where the Citi Bikes were used the most. The two bar charts visualize the top 10 most popular start and end stations.\n",
        "  - It appears that the most popular starting and ending stations are about the same, with the small exception of Marin Light Rail and Hoboken Ave at Monmouth St swapping places as the 9th and 10th most popular end stations when compared to their popularity as starting stations.\n",
        "\n",
        "![Most Popular Stations](images/most_popular_stations.png)\n",
        "\n",
        "Citi Bike uses data analytics to monitor the usage of its bikes and stations in real-time, and to identify patterns and trends in the data. This allows the company to quickly and accurately assess the demand for bikes at different stations, identify potential issues with bike supplies, and take action to prevent or address these issues.\n",
        "  - Identifying areas of high demand\n",
        "    - ensure that there are enough bikes available at popular stations\n",
        "    - prevent shortages\n",
        "    - ensure that people using it to get to work have access to the bikes they need to complete their daily trip.\n",
        "  -  Identify areas where there may be excess capacity and redistribute bikes to other locations where they are needed more\n",
        "    - balance the demand and supply of bikes at different stations\n",
        "    - ensure that the service is operating efficiently.\n",
        "  - Provide valuable insights into the patterns and habits of Citi Bike users\n",
        "\n",
        "This information can be used to improve the service and tailor it to the needs of the local community. This way we can ensure that the bike-sharing service is operating smoothly and that people using it for business have access to the bikes they need to complete their daily commute.\n",
        "\n",
        "\n",
        "\n",
        "\n"
      ]
    },
    {
      "attachments": {},
      "cell_type": "markdown",
      "metadata": {
        "id": "w-EDurZ90fKF"
      },
      "source": [
        "#### Station Locations\n",
        "\n",
        "Having popular Citi Bike stations near the Hoboken Terminal and other major hubs in Jersey City can be beneficial for people using it for business purposes by providing an eco-friendly transportation option, making it easier to access the bikes, and being a cost-effective option.\n",
        "\n",
        "Citi Bike stations can also be attractive for pleasure in the Hoboken and Jersey City area. The bikes can be a fun and convenient way to explore the city and enjoy the outdoors or make doing chores fun!\n",
        "\n",
        "- The location of Citi bike stations around the residents area and near major transportation hubs and business districts can provide flexibility and convenience for people using it for business purposesto access the bikes and incorporate them into their daily commute\n",
        "  - Save time and hassle for people using it for business and pleasure purposes!\n",
        "  - Great alternative to walking and public transportation!\n",
        "- The popularity of the starting stations serve as a signal to potential members that the Citi Bike service is widely used and well-established in the JC area\n",
        "- Create a sense of community among residents who use the service\n",
        "  - A sense of belonging\n",
        "\n",
        "##### Starting Station Popularity\n",
        "![Starting Station Popularity Map](images/start_jersey_map.png)\n",
        "\n",
        "##### Ending Station Popularity\n",
        "\n",
        "\n",
        "![Ending Station Popularity](images/end_jersey_map.png)\n",
        "\n",
        "This map is very similar to the starting station populartion map, with one notable difference being that there are number of stations throughout Manhattan and a few in Brooklyn which appear. This would suggest that a number of users are starting their trip with Citi Bike in New Jersey but ending in a New York station. These users may be using the service for leisurely purposes, or they could be more health conscious commuters who are not afraid of biking a longer distance to work.\n",
        "\n",
        "Overall, Citi Bike stations can be attractive for both people using it for business and pleasure purposes in the Hoboken and Jersey City area by making it easier to access the bikes, offering flexible membership options, and providing a fun and convenient way to explore the city.\n"
      ]
    },
    {
      "cell_type": "markdown",
      "metadata": {
        "id": "00LYnmlQen6x"
      },
      "source": [
        "### When Do People Use Citi Bike?"
      ]
    },
    {
      "attachments": {},
      "cell_type": "markdown",
      "metadata": {
        "id": "KSf-0p6r1CBN"
      },
      "source": [
        "#### Seasonality\n",
        "The different seasons play a role in the usage of Citi Bikes throughout the year. A line graph was used to show the usage of Citi Bikes for each season. \n",
        "Citi Bike can be an attractive option for people using it for business and pleasure purposes throughout the seasons. The bike-sharing service offers a number of benefits that can appeal to people using it for business purposes regardless of the time of year.\n",
        "\n",
        "![Ride Seasonality](images/seasonality_of_rides.png)\n",
        "\n",
        "Ridership appears to grow from spring to summer, and then begin to drop off in the fall and drop even more steeply in the winter. This trend follows the previous assumption that the warmer weather encourages users to ride with Citi Bike and the colder weather may deter users from using the service.\n",
        "\n",
        "- During the summer season, Citi Bike can provide a convenient and enjoyable way for people using it for business purposesto beat the heat and avoid crowded public transportation. The bikes can be a fun and refreshing option for people using it for business purposeswho want to get some fresh air and enjoy the outdoors. In addition, Citi Bike offers flexible membership options, such as daily or hourly passes, that can be convenient for people using it for business purposeswho only need a bike for a short period of time.\n",
        "- During the winter season, Citi Bike can provide a convenient and healthy alternative to driving or taking public transportation in cold and inclement weather. The bikes can be a good option for people using it for business purposeswho want to stay active and avoid being cooped up inside. In addition, Citi Bike has measures in place to ensure that the bikes are well-maintained and safe to use in all weather conditions.\n"
      ]
    },
    {
      "attachments": {},
      "cell_type": "markdown",
      "metadata": {
        "id": "Io2NpBzs1YPK"
      },
      "source": [
        "#### Ride by Day of Week\n",
        "A graph was made with multiple boxplots to show the distribution of the number of rides for each day of the week over one year.\n",
        "\n",
        "![Ride Distribution by Day](images/rides_by_day_over_year.png)\n",
        "\n",
        "This showed us that some days of the week have more variance in ridership than others. Tuesday - Friday are the least spread as the rides on those days are more likely to represent commuters or users with a regular weekly schedule than leisurely rides. Saturday and Sunday have a greater spread as they likely represent leisurely rides which would vary based on many factors such as weather. Mondays fary the most for weekdays as it's possible that users routines are not as static on Mondays as they are on the rest of the weekdays."
      ]
    },
    {
      "attachments": {},
      "cell_type": "markdown",
      "metadata": {
        "id": "lmIIUPut3y08"
      },
      "source": [
        "#### Rides by Hour\n",
        "A heatmap was created to visualize the usage of Citi Bikes per hour for each day of the week over a year. \n",
        "\n",
        "![Rides by Hour](images/rides_by_hour_of_day.png)\n",
        "\n",
        "On weekdays, the most popular times are the 3 hours of the morning commute from about 6 AM - 9 AM and in the evenings, from 4 PM - 9 PM. One interesting discovery regarding weekdays is that there is significantly more usage of the service in the evening rush hours than in the morning rush hours. This may be due to the weather in the evenings typically being nicer in the evening hours whereas the morning hours can still be less comfortable for example in the summer. It could also be because users would not want to exercise before going to work as they may sweat or get their work clothes dirty. This may be less of a concern in the evening which is why ridership is higher then.\n",
        "\n",
        "Weekend ridership appears to be most common from 10 AM to 7 PM. This would make sense as this range of hour is usually when most people would be partaking in leisurely activities. The 7 PM slow down is possibly due to daylight hours ending around 7 PM or 8 PM in the summer."
      ]
    },
    {
      "cell_type": "markdown",
      "metadata": {
        "id": "jl4Fx79mexS4"
      },
      "source": [
        "### How Do People Use Citi Bike?"
      ]
    },
    {
      "attachments": {},
      "cell_type": "markdown",
      "metadata": {
        "id": "0RbUCfby9jWB"
      },
      "source": [
        "#### Seasonality of Ride Duration\n",
        "The ride duration per trip was analyzed to compare how long people use Citi Bikes. A graph with multiple boxplots was created to show the distribution of ride durations for the different seasons throughout the year.\n",
        "\n",
        "![Seasonality of Ride Duration](images/seasonality_of_ride_durations.png)\n",
        "\n",
        "The trend observed in ride frequency appears to also apply to ride durations. Rides were generally longer in the summer with spring having the next longest median ride duration. Winter and fall appear to have the same median ride duration, but the spread in fall was a bit greater.\n",
        "\n",
        "This trend may be influenced by the weather and number of hours of daylight as noted previously. The longer length of rides in the summer may also be explained by more users using the bikes for leisurly trips which may be longer in duration as opposed to someone using it for a commute. In addition, more tourists to the city in the summer months may contribute to longer ride lengths as they would be using it exclusively for leisure being that they are visiting.\n",
        "\n",
        "The similarity in distribution of rides in fall or winter may indicate that more users in those seasons are commuters which is why the ride duration would vary less as a user's commute would typically not change very much unless it was impacted by outside factors such as traffic. \n",
        "\n",
        "Ride duration in the spring being more similarly distriuted to summer may be explained by the nicer weather, but also by the use case beginning to shift from being more commuters to more leisure riders.\n",
        "\n",
        "This data indicates how people may be using Citi Bikes for different purposes or in different ways depending on the season. Weather and Daylight plays a key role in the difference of the ride duration and ride purpose.  "
      ]
    },
    {
      "attachments": {},
      "cell_type": "markdown",
      "metadata": {
        "id": "4Sj_rKoR9wmN"
      },
      "source": [
        "#### Ride Duration by Day of Week\n",
        "A pie chart was made to show the ratio between the number of rides on weekdays versus weekends. \n",
        "\n",
        "![Ride Duration by Day of Week](images/rides_by_weekday_weekend.png)\n",
        "\n",
        "According to the pie chart, 71.6% of Citi Bike rides are taken on weekdays, while 28.4% are taken on weekends. This indicates that a significant majority of Citi Bike riders use the service for commuting and other weekday activities, rather than for pleasure and recreation on the weekends.\n",
        "\n",
        "The higher proportion of rides taken on weekdays suggests that many Citi Bike users are people using it for business purposes who rely on the service for their daily travel needs. It also indicates that Citi Bike is a popular and convenient mode of transportation for weekday activities, such as running errands, attending meetings, and visiting friends and family.\n",
        "\n",
        "Meanwhile, the lower proportion of rides taken on weekends may be due to a decrease in the number of tourists who use Citi Bikes. In the spring and summer, when the weather is warmer and more pleasant, many tourists visit cities like New York and are more likely to use Citi Bikes as a means of sightseeing. However, in the fall and winter, when the weather is colder and less inviting, the number of tourists may decrease, leading to fewer Citi Bike rides on the weekends."
      ]
    },
    {
      "attachments": {},
      "cell_type": "markdown",
      "metadata": {
        "id": "Y5HJI5Iy9_VG"
      },
      "source": [
        "#### Ride Duration by Purpose\n",
        "\n",
        "Two boxplots were made to show the distribution of ride duration for weekdays and weekends.  \n",
        "\n",
        "![Ride Duration by Purpose](images/ride_duration_by_day.png)\n",
        "\n",
        "While more users are riding on the weekdays, it appears that they ride for shorter periods of time during the week. This may support our assumption that during the week Citi Bike users are more likely to be using the service as part of their commute to work than for leisurely experiences. Rides on the weekend appar to be longer which would also support our assumption that the weekend rides are more for leisure.\n",
        "\n",
        "Given that there are more riders on the weekdays than weekend, it may suggest that Citi Bikes are used more by natives for their commute to work than by tourists on the weekends.\n",
        "\n",
        "The insight from this information is that people may be using Citi Bikes for different purposes on weekdays and weekends. For example, on weekdays, people may be using Citi Bikes primarily for commuting to and from work, which could explain the narrower range and positive skew in ride duration. On the other hand, on weekends, people may be using Citi Bikes for leisure or recreational activities, which could explain the wider range and positive skew in ride duration.\n",
        "\n",
        "\n"
      ]
    },
    {
      "cell_type": "markdown",
      "metadata": {
        "id": "19QsGsQGe1wp"
      },
      "source": [
        "### Who Uses Citi Bike?"
      ]
    },
    {
      "attachments": {},
      "cell_type": "markdown",
      "metadata": {
        "id": "SyNHH9AmA5yN"
      },
      "source": [
        "#### Rides by Type of User\n",
        "There are two ways to use Citi Bikes; as a member or a casual rider. A pie chart was made to compare the ratio of number of rides between members and casual riders.\n",
        " \n",
        "\n",
        "![Rides by Type of User](images/rides_by_user_type.png)\n",
        "\n",
        "According to the data, 65% of Citi Bike rides are taken by members, while 35% are taken by casual users. This indicates that a significant majority of Citi Bike riders are members who have signed up for a monthly or annual membership, rather than casual users who pay per ride.\n",
        "\n",
        "The higher proportion of rides taken by members suggests that many Citi Bike users are regular riders who use the service frequently, and have found it to be a convenient and cost-effective mode of transportation. It also indicates that the membership program offered by Citi Bike is successful in attracting and retaining regular users.\n"
      ]
    },
    {
      "attachments": {},
      "cell_type": "markdown",
      "metadata": {
        "id": "yTlc57UgBDCh"
      },
      "source": [
        "#### Ride Duration by User Type\n",
        "Two boxplots were created to show the distribution of ride duration for membership and casual riders.\n",
        "\n",
        "![Ride Duration by User Type](images/ride_duration_by_user_type.png)\n",
        "\n",
        "\n",
        "Members tend to have shorter rides than non members. This also supports our assumption that most members use the service for commuting and more non members may use the service for leisure."
      ]
    },
    {
      "cell_type": "markdown",
      "metadata": {
        "id": "G0qj_ST3tV83"
      },
      "source": [
        "## Challenges\n",
        "\n",
        "### Volume of the data\n",
        "We originally planned on doing a Citi Bike analysis for both New York City and Jersey City for the period of 2019 to 2022. However, the dataset contained over 30 million rows which caused an issue with storing the data with the resources we utilized. \n",
        "\n",
        "### Changes in data format\n",
        "We quickly realize that there was a change in the number of features in the data between the year of 2020 and 2021. This change would limit the analysis we could do with data from differnet years as the missing features would need to be excluded from some of the analysis. More time would need to be spent accounting for the missing values.\n",
        "\n",
        "### Limited Dataset\n",
        "Some of the features that were removed from the old dataset were ones that we used in our analysis. These features therefore had to be created from the available data.\n"
      ]
    },
    {
      "cell_type": "markdown",
      "metadata": {
        "id": "igxVsfmRaPYf"
      },
      "source": [
        "## Lessons Learned\n",
        "\n",
        "* We discovered that cursory data analysis is important to understand if the quantity of data being analyzed is appropriate for the analysis.\n",
        "\n",
        "* We realized that seaborn was better for quickly visualizing our data to ensure more time was being spent on the analysis than building our visualizations.\n",
        "\n",
        "* We learned that each visualization needed to serve a purpose in supporting the analytical question and not simply presenting the data in a different format."
      ]
    },
    {
      "attachments": {},
      "cell_type": "markdown",
      "metadata": {
        "id": "Ieb0bj-vaJaU"
      },
      "source": [
        "## Question for Further Analysis\n",
        "* Can a user be advised on whether or not they should become a member. This would require additional fields such as a member ID so rides could be connected to unique users.\n",
        "\n",
        "* What impact does traffic have on ride duration at differnt times. Additional information on speed and routes traveled would be needed as well as traffic data for the time periods analyzed.\n",
        "\n",
        "* Do more residents use the service or tourists to the area? In order to analyze this, Citi Bike would need to capture address information of their users. This may be included in payment information Citi Bike collects, but it was not available in the data set."
      ]
    }
  ],
  "metadata": {
    "colab": {
      "provenance": []
    },
    "kernelspec": {
      "display_name": "wvenv",
      "language": "python",
      "name": "python3"
    },
    "language_info": {
      "name": "python",
      "version": "3.10.2 (tags/v3.10.2:a58ebcc, Jan 17 2022, 14:12:15) [MSC v.1929 64 bit (AMD64)]"
    },
    "vscode": {
      "interpreter": {
        "hash": "48d036f6f4d646afd8644da62e5861719e69a95b97267648c4c88cdcc042f6bf"
      }
    }
  },
  "nbformat": 4,
  "nbformat_minor": 0
}
