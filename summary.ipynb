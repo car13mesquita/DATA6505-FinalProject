{
  "cells": [
    {
      "attachments": {},
      "cell_type": "markdown",
      "metadata": {
        "id": "iSjsKciig-Xo"
      },
      "source": [
        "# Citi Bike: Casual or Member?\n",
        "![Citi Bike Logo](images/citibike_logo.png)"
      ]
    },
    {
      "cell_type": "markdown",
      "metadata": {
        "id": "nJQvwbAyZ2Qh"
      },
      "source": [
        "## What is Citi Bike?\n",
        "Citi Bike is a popular bike-sharing service in the Hoboken and Jersey City area that allows commuters and residents to easily access bikes at various stations around the city. With Citi Bike, you can enjoy the convenience and flexibility of having a bike at your disposal whenever you need it. Whether you're commuting to work, running errands, or just enjoying the outdoors, Citi Bike has you covered. Plus, with affordable monthly and annual memberships available, Citi Bike is a cost-effective transportation option that's good for your wallet and the environment. Try Citi Bike today and experience the freedom and convenience of having a bike at your fingertips.\n",
        "\n",
        "## Motivation\n",
        "Citi Bike has become one of the most popular transportation services in the urban environment. Not only is it cheaper compared to taxi services such as Uber but also faster and offers a green, health-conscious, and convenient way to travel around the highly-populated city. Citi Bike offers an annual membership which has benefits such as longer free rides. We are going to analyze whether it is worth it for individuals to become annual members. This information can be valuable for both potential members who are considering signing up for a membership, as well as for Citi Bike itself, as understanding the value proposition of their membership offerings can help the company make more informed business decisions.\n",
        "\n",
        "Additionally, an analysis of Citi Bike membership can provide insight into the usage patterns of Citi Bike users, including the most popular stations, and times of day for bike rentals. This information can be used to optimize the Citi Bike network and improve the overall user experience.\n"
      ]
    },
    {
      "cell_type": "markdown",
      "metadata": {
        "id": "3b7_GT_idiVg"
      },
      "source": [
        "## Data Sources\n",
        "\n",
        "The source of our dataset is from the official Citi Bike website https://ride.CitiBikenyc.com/system-data. The dataset provides us insights into the usage of Citi Bike in the Jersey City area for the period of 12 months from December 2021 to November 2022. It contains various features such as type of rides, station id, station name, station locations, start station, end station, latitude, longitude, and types of users. The dataset consists of 13 columns and roughly about 895 thousand rows."
      ]
    },
    {
      "cell_type": "markdown",
      "metadata": {
        "id": "LvdhAb6eef5O"
      },
      "source": [
        "## Analysis"
      ]
    },
    {
      "cell_type": "markdown",
      "metadata": {
        "id": "Qhv5tQ6E0cEr"
      },
      "source": [
        "### Where Do People Use Citi Bike?"
      ]
    },
    {
      "attachments": {},
      "cell_type": "markdown",
      "metadata": {
        "id": "ZBJlFO6ceht5"
      },
      "source": [
        "#### Most Popular Stations\n",
        "\n",
        "The popularity of the start and end stations was explored to find out where the Citi Bikes were used the most. The two bar charts visualize the top 10 most popular start and end stations.\n",
        "  - From the 10 stations, the rank in descending order of popularity of start and end stations are the same except for the Marin Light Rail and Hoboken Ave at Monmouth St stations.\n",
        "\n",
        "![Most Popular Stations](images/most_popular_stations.png)\n",
        "\n",
        "Citi Bike uses data analytics to monitor the usage of its bikes and stations in real-time, and to identify patterns and trends in the data. This allows the company to quickly and accurately assess the demand for bikes at different stations, identify potential issues with bike supplies, and take action to prevent or address these issues.\n",
        "  - Identifying areas of high demand\n",
        "    - ensure that there are enough bikes available at popular stations\n",
        "    - prevent shortages\n",
        "    - ensure that commuters have access to the bikes they need to complete their daily commute.\n",
        "  -  Identify areas where there may be excess capacity and redistribute bikes to other locations where they are needed more\n",
        "    - balance the demand and supply of bikes at different stations\n",
        "    - ensure that the service is operating efficiently.\n",
        "  - Provide valuable insights into the patterns and habits of Citi Bike users\n",
        "\n",
        "This information can be used to improve the service and tailor it to the needs of the local community. This way we can ensure that the bike-sharing service is operating smoothly and that commuters have access to the bikes they need to complete their daily commute.\n",
        "\n",
        "\n",
        "\n",
        "\n"
      ]
    },
    {
      "attachments": {},
      "cell_type": "markdown",
      "metadata": {
        "id": "w-EDurZ90fKF"
      },
      "source": [
        "#### Overall Station Popularity\n",
        "\n",
        "Having popular Citi Bike stations near the Hoboken Terminal and other major hubs in Jersey City can be beneficial for commuters by providing an eco-friendly transportation option, making it easier to access the bikes, and being a cost-effective option.\n",
        "\n",
        "Citi Bike stations can also be attractive for leisure activities in the Hoboken and Jersey City area. The bikes can be a fun and convenient way to explore the city and enjoy the outdoors or make doing chores fun!\n",
        "\n",
        "- The location of Citi bike stations around the residents area and near major transportation hubs and business districts can provide flexibility and convenience for commuters to access the bikes and incorporate them into their daily commute\n",
        "  - Save time and hassle for commuters and residents!\n",
        "  - Great alternative to walking and public transportation!\n",
        "- The popularity of the starting stations serve as a signal to potential members that the Citi Bike service is widely used and well-established in the JC area\n",
        "- Create a sense of community among residents who use the service\n",
        "  - A sense of belonging\n",
        "\n",
        "##### Starting Station Popularity\n",
        "![Starting Station Popularity Map](images/start_jersey_map.png)\n",
        "\n",
        "##### Ending Station Popularity\n",
        "\n",
        "\n",
        "![Ending Station Popularity](images/end_jersey_map.png)\n",
        "\n",
        "The popularity of stations which is indicated by the size of the circles, look similar on both maps which again shows that starting and ending stations were used about the same amount of time. Another observation is that on the end station map, some end stations are in New York City which suggests that people rake the Citi Bikes across the river. \n",
        "\n",
        "Overall, Citi Bike stations can be attractive for both residents and commuters in the Hoboken and Jersey City area by making it easier to access the bikes, offering flexible membership options, and providing a fun and convenient way to explore the city.\n"
      ]
    },
    {
      "cell_type": "markdown",
      "metadata": {
        "id": "00LYnmlQen6x"
      },
      "source": [
        "### When Do People Use Citi Bike?"
      ]
    },
    {
      "attachments": {},
      "cell_type": "markdown",
      "metadata": {
        "id": "KSf-0p6r1CBN"
      },
      "source": [
        "#### Seasonality\n",
        "The different seasons play a role in the usage of Citi Bikes throughout the year. A line graph was used to show the usage of Citi Bikes for each season. \n",
        "Citi Bike can be an attractive option for commuters and residents throughout the seasons. The bike-sharing service offers a number of benefits that can appeal to commuters regardless of the time of year.\n",
        "\n",
        "![Ride Seasonality](images/seasonality_of_rides.png)\n",
        "\n",
        "There is a big difference in number of rides between the Winter (lowest) and Summer (highest) seasons. There are more Citi Bikes available during the Winter season in comparison to the Summer season. Users will have to be more strategic with their decision making during the Summer time.\n",
        "\n",
        "- During the summer season, Citi Bike can provide a convenient and enjoyable way for commuters to beat the heat and avoid crowded public transportation. The bikes can be a fun and refreshing option for commuters who want to get some fresh air and enjoy the outdoors. In addition, Citi Bike offers flexible membership options, such as daily or hourly passes, that can be convenient for commuters who only need a bike for a short period of time.\n",
        "- During the winter season, Citi Bike can provide a convenient and healthy alternative to driving or taking public transportation in cold and inclement weather. The bikes can be a good option for commuters who want to stay active and avoid being cooped up inside. In addition, Citi Bike has measures in place to ensure that the bikes are well-maintained and safe to use in all weather conditions.\n"
      ]
    },
    {
      "attachments": {},
      "cell_type": "markdown",
      "metadata": {
        "id": "Io2NpBzs1YPK"
      },
      "source": [
        "#### Ride by Day of Week\n",
        "A graph was made with multiple boxplots to show the distribution of the number of rides for each day of the week over one year.\n",
        "\n",
        "![Ride Distribution by Day](images/rides_by_day_over_year.png)\n",
        "\n",
        "Monday has the smallest interquartile range indicating that it has the least amount of variation. The boxplot for Monday is positively skewed which indicates that there are less rides on Mondays. Saturdays have the most variation in number of rides. Sundays have the lowest number of rides and a lot of variation. The other days of the week are normally distributed."
      ]
    },
    {
      "attachments": {},
      "cell_type": "markdown",
      "metadata": {
        "id": "lmIIUPut3y08"
      },
      "source": [
        "#### Rides by Hour\n",
        "A heatmap was created to visualize the usage of Citi Bikes per hour for each day of the week over a year. \n",
        "\n",
        "![Rides by Hour](images/rides_by_hour_of_day.png)\n",
        "\n",
        "Citi Bikes are being used the most on Wednesdays at 6pm. The usage per hour trend on weekdays from Mondays to Fridays are similar. The busiest hours are from 7am to 8am in the mornings and 4pm to 7pm in the afternoons on weekdays. Saturdays show more variation in usage per hour. Citi Bikes are being used between 10am and 7pm over the weekend. On Saturdays and Sundays Citi Bikes are being used in the early morning hours, which is not common during the week."
      ]
    },
    {
      "cell_type": "markdown",
      "metadata": {
        "id": "jl4Fx79mexS4"
      },
      "source": [
        "### How Do People Use Citi Bike?"
      ]
    },
    {
      "attachments": {},
      "cell_type": "markdown",
      "metadata": {
        "id": "0RbUCfby9jWB"
      },
      "source": [
        "#### Seasonality of Ride Duration\n",
        "The ride duration per trip was analyzed to compare how long people use Citi Bikes. A graph with multiple boxplots was created to show the distribution of ride durations for the different seasons throughout the year.\n",
        "\n",
        "![Seasonality of Ride Duration](images/seasonality_of_ride_durations.png)\n",
        "\n",
        "All the boxplots are positively skewed which indicates that the bikes are mostly being used for a short period of time. The interquartile range is the smallest for the winter season. The range is the biggest for the summer season indicating that there is a lot of variation in duration of rides during the summer time. Rides are longer in the summer based on the median and first quartile. The Spring season has the second longest duration of rides followed by Fall and Winter seasons.\n",
        "\n",
        "This data indicates how people may be using Citi Bikes for different purposes or in different ways depending on the season. Weather and Daylight plays a key role in the difference of the ride duration and ride purpose.  \n",
        "\n",
        "In Fall and Winter, when the weather is colder and wetter with less daylight, people may be less likely to use Citi Bikes for leisure or recreational activities, which could explain the narrower range and positive skew in ride duration. \n",
        "\n",
        "In Spring and Summer, when the weather is warmer and drier, people may be more likely to use Citi Bikes for these types of activities especially with tourists visiting the city. This could explain the wider range in ride duration.\n"
      ]
    },
    {
      "attachments": {},
      "cell_type": "markdown",
      "metadata": {
        "id": "4Sj_rKoR9wmN"
      },
      "source": [
        "#### Ride Duration by Day of Week\n",
        "A pie chart was made to show the ratio between the number of rides on weekdays versus weekends. \n",
        "\n",
        "According to the pie chart, 71.6% of Citi Bike rides are taken on weekdays, while 28.4% are taken on weekends. This indicates that a significant majority of Citi Bike riders use the service for commuting and other weekday activities, rather than for leisure and recreation on the weekends.\n",
        "\n",
        "![Ride Duration by Day of Week](images/rides_by_weekday_weekend.png)\n",
        "\n",
        "The higher proportion of rides taken on weekdays suggests that many Citi Bike users are commuters who rely on the service for their daily travel needs. It also indicates that Citi Bike is a popular and convenient mode of transportation for weekday activities, such as running errands, attending meetings, and visiting friends and family.\n",
        "\n",
        "Meanwhile, the lower proportion of rides taken on weekends may be due to a decrease in the number of tourists who use Citi Bikes. In the spring and summer, when the weather is warmer and more pleasant, many tourists visit cities like New York and are more likely to use Citi Bikes as a means of sightseeing. However, in the fall and winter, when the weather is colder and less inviting, the number of tourists may decrease, leading to fewer Citi Bike rides on the weekends."
      ]
    },
    {
      "attachments": {},
      "cell_type": "markdown",
      "metadata": {
        "id": "Y5HJI5Iy9_VG"
      },
      "source": [
        "#### Ride Duration by Purpose\n",
        "\n",
        "Two boxplots were made to show the distribution of ride duration for weekdays and weekends. \n",
        "\n",
        "Both boxplots are skewed to the right indicating that the duration of rides of most rides are short rather than long. On weekdays, rides are shorter than on weekends. This is shown by weekdays having a smaller median than weekends. Weekdays also have a lower maximum duration of ride value and three outliers. The weekend distribution has no outliers.\n",
        "\n",
        "![Ride Duration by Purpose](images/ride_duration_by_day.png)\n",
        "\n",
        "The insight from this information is that people may be using Citi Bikes for different purposes on weekdays and weekends. For example, on weekdays, people may be using Citi Bikes primarily for commuting to and from work, which could explain the narrower range and positive skew in ride duration. On the other hand, on weekends, people may be using Citi Bikes for leisure or recreational activities, which could explain the wider range and positive skew in ride duration.\n",
        "\n",
        "\n"
      ]
    },
    {
      "cell_type": "markdown",
      "metadata": {
        "id": "19QsGsQGe1wp"
      },
      "source": [
        "### Who Uses Citi Bike?"
      ]
    },
    {
      "cell_type": "markdown",
      "metadata": {
        "id": "SyNHH9AmA5yN"
      },
      "source": [
        "#### Rides by Type of User\n",
        "There are two ways to use Citi Bikes; as a member or a casual rider. A pie chart was made to compare the ratio of number of rides between members and casual riders.\n",
        " \n",
        "\n",
        "![Rides by Type of User](https://github.com/car13mesquita/DATA6505-FinalProject/blob/main/images/rides_by_user_type.png?raw=true)\n",
        "\n",
        "According to the data, 65% of Citi Bike rides are taken by members, while 35% are taken by casual users. This indicates that a significant majority of Citi Bike riders are members who have signed up for a monthly or annual membership, rather than casual users who pay per ride.\n",
        "\n",
        "The higher proportion of rides taken by members suggests that many Citi Bike users are regular riders who use the service frequently, and have found it to be a convenient and cost-effective mode of transportation. It also indicates that the membership program offered by Citi Bike is successful in attracting and retaining regular users.\n"
      ]
    },
    {
      "attachments": {},
      "cell_type": "markdown",
      "metadata": {
        "id": "yTlc57UgBDCh"
      },
      "source": [
        "#### Ride Duration by User Type\n",
        "Two boxplots were created to show the distribution of ride duration for membership and casual riders.\n",
        "\n",
        "Both boxplots are skewed to the right indicating that most rides are short rides. Membership users use the bikes for a shorter duration than casual riders. This is indicated by the boxplot for membership users having a lower median, maximum value and first and third quartile. There is less variation in the duration of rides for the membership user than the casual user.\n",
        "\n",
        "![Ride Duration by User Type]/images/ride_duration_by_user_type.png)\n",
        "\n",
        "This indicates that members are able to take longer and more convenient trips on Citi Bikes, and get more value and use out of their Citi Bike trips.\n",
        "\n",
        "An advantage of being a member is that they do not have to pay a base fee for each trip, saving them money on their Citi Bike trips.\n",
        "\n",
        "In contrast, casual users have to pay a base fee for each trip and may end up spending more money on Citi Bike trips, and may not be able to take as many or as long trips on Citi Bikes."
      ]
    },
    {
      "cell_type": "markdown",
      "metadata": {
        "id": "G0qj_ST3tV83"
      },
      "source": [
        "## Challenges\n",
        "\n",
        "### Volume of the data\n",
        "We originally planned on doing a Citi Bike analysis for both New York City and Jersey City for the period of 2019 to 2022. However, the dataset contained over 30 million rows which caused an issue with storing the data with the resources we utilized. \n",
        "\n",
        "### Changes in data format\n",
        "We quickly realize that there was a change in the number of features in the data between the year of 2020 and 2021. This change would limit the analysis we could do with data from differnet years as the missing features would need to be excluded from some of the analysis. More time would need to be spent accounting for the missing values.\n",
        "\n",
        "### Limited Dataset\n",
        "Some of the features that were removed from the old dataset were ones that we used in our analysis. These features therefore had to be created from the available data.\n"
      ]
    },
    {
      "cell_type": "markdown",
      "metadata": {
        "id": "igxVsfmRaPYf"
      },
      "source": [
        "## Lessons Learned\n",
        "\n",
        "* We discovered that cursory data analysis is important to understand if the quantity of data being analyzed is appropriate for the analysis.\n",
        "\n",
        "* We realized that seaborn was better for quickly visualizing our data to ensure more time was being spent on the analysis than building our visualizations.\n",
        "\n",
        "* We learned that each visualization needed to serve a purpose in supporting the analytical question and not simply presenting the data in a different format."
      ]
    },
    {
      "cell_type": "markdown",
      "metadata": {
        "id": "Ieb0bj-vaJaU"
      },
      "source": [
        "## Question for Further Analysis\n",
        "\n",
        "* Can a user be advised on whether or not they should become a member. This would require additional fields such as a member ID so rides could be connected to unique users.\n",
        "* What impact does traffic have on ride duration at differnt times. Additional information on speed and routes traveled would be needed as well as traffic data for the time periods analyzed.\n",
        "* Do more residents use the service or tourists to the area? In order to analyze this, Citi Bike would need to capture address information of their users. This may be included in payment information Citi Bike collects, but it was not available in the data set."
      ]
    }
  ],
  "metadata": {
    "colab": {
      "provenance": []
    },
    "kernelspec": {
      "display_name": "Python 3",
      "name": "python3"
    },
    "language_info": {
      "name": "python"
    }
  },
  "nbformat": 4,
  "nbformat_minor": 0
}
